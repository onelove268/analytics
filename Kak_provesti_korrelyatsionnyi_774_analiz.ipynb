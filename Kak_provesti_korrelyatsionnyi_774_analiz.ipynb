{
 "cells": [
  {
   "cell_type": "markdown",
   "id": "e5fa0290",
   "metadata": {
    "id": "e5fa0290"
   },
   "source": [
    "# Как провести корреляционный анализ"
   ]
  },
  {
   "cell_type": "code",
   "execution_count": 2,
   "id": "a89a4f50",
   "metadata": {
    "id": "a89a4f50"
   },
   "outputs": [],
   "source": [
    "import pandas as pd\n",
    "\n",
    "import numpy as np\n",
    "from scipy import stats\n",
    "\n",
    "import seaborn as sns"
   ]
  },
  {
   "cell_type": "code",
   "execution_count": 5,
   "id": "ebbc3a26",
   "metadata": {
    "id": "ebbc3a26",
    "outputId": "e7f7de5c-1fdb-493d-d7fc-34df13983ce3"
   },
   "outputs": [
    {
     "data": {
      "text/html": [
       "<div>\n",
       "<style scoped>\n",
       "    .dataframe tbody tr th:only-of-type {\n",
       "        vertical-align: middle;\n",
       "    }\n",
       "\n",
       "    .dataframe tbody tr th {\n",
       "        vertical-align: top;\n",
       "    }\n",
       "\n",
       "    .dataframe thead th {\n",
       "        text-align: right;\n",
       "    }\n",
       "</style>\n",
       "<table border=\"1\" class=\"dataframe\">\n",
       "  <thead>\n",
       "    <tr style=\"text-align: right;\">\n",
       "      <th></th>\n",
       "      <th>id</th>\n",
       "      <th>age</th>\n",
       "      <th>gender</th>\n",
       "      <th>height</th>\n",
       "      <th>weight</th>\n",
       "      <th>ap_hi</th>\n",
       "      <th>ap_lo</th>\n",
       "      <th>cholesterol</th>\n",
       "      <th>gluc</th>\n",
       "      <th>smoke</th>\n",
       "      <th>alco</th>\n",
       "      <th>active</th>\n",
       "      <th>cardio</th>\n",
       "    </tr>\n",
       "  </thead>\n",
       "  <tbody>\n",
       "    <tr>\n",
       "      <th>0</th>\n",
       "      <td>0</td>\n",
       "      <td>18393</td>\n",
       "      <td>2</td>\n",
       "      <td>168</td>\n",
       "      <td>62.0</td>\n",
       "      <td>110</td>\n",
       "      <td>80</td>\n",
       "      <td>1</td>\n",
       "      <td>1</td>\n",
       "      <td>0</td>\n",
       "      <td>0</td>\n",
       "      <td>1</td>\n",
       "      <td>0</td>\n",
       "    </tr>\n",
       "    <tr>\n",
       "      <th>1</th>\n",
       "      <td>1</td>\n",
       "      <td>20228</td>\n",
       "      <td>1</td>\n",
       "      <td>156</td>\n",
       "      <td>85.0</td>\n",
       "      <td>140</td>\n",
       "      <td>90</td>\n",
       "      <td>3</td>\n",
       "      <td>1</td>\n",
       "      <td>0</td>\n",
       "      <td>0</td>\n",
       "      <td>1</td>\n",
       "      <td>1</td>\n",
       "    </tr>\n",
       "    <tr>\n",
       "      <th>2</th>\n",
       "      <td>2</td>\n",
       "      <td>18857</td>\n",
       "      <td>1</td>\n",
       "      <td>165</td>\n",
       "      <td>64.0</td>\n",
       "      <td>130</td>\n",
       "      <td>70</td>\n",
       "      <td>3</td>\n",
       "      <td>1</td>\n",
       "      <td>0</td>\n",
       "      <td>0</td>\n",
       "      <td>0</td>\n",
       "      <td>1</td>\n",
       "    </tr>\n",
       "    <tr>\n",
       "      <th>3</th>\n",
       "      <td>3</td>\n",
       "      <td>17623</td>\n",
       "      <td>2</td>\n",
       "      <td>169</td>\n",
       "      <td>82.0</td>\n",
       "      <td>150</td>\n",
       "      <td>100</td>\n",
       "      <td>1</td>\n",
       "      <td>1</td>\n",
       "      <td>0</td>\n",
       "      <td>0</td>\n",
       "      <td>1</td>\n",
       "      <td>1</td>\n",
       "    </tr>\n",
       "    <tr>\n",
       "      <th>4</th>\n",
       "      <td>4</td>\n",
       "      <td>17474</td>\n",
       "      <td>1</td>\n",
       "      <td>156</td>\n",
       "      <td>56.0</td>\n",
       "      <td>100</td>\n",
       "      <td>60</td>\n",
       "      <td>1</td>\n",
       "      <td>1</td>\n",
       "      <td>0</td>\n",
       "      <td>0</td>\n",
       "      <td>0</td>\n",
       "      <td>0</td>\n",
       "    </tr>\n",
       "  </tbody>\n",
       "</table>\n",
       "</div>"
      ],
      "text/plain": [
       "   id    age  gender  height  weight  ap_hi  ap_lo  cholesterol  gluc  smoke  \\\n",
       "0   0  18393       2     168    62.0    110     80            1     1      0   \n",
       "1   1  20228       1     156    85.0    140     90            3     1      0   \n",
       "2   2  18857       1     165    64.0    130     70            3     1      0   \n",
       "3   3  17623       2     169    82.0    150    100            1     1      0   \n",
       "4   4  17474       1     156    56.0    100     60            1     1      0   \n",
       "\n",
       "   alco  active  cardio  \n",
       "0     0       1       0  \n",
       "1     0       1       1  \n",
       "2     0       0       1  \n",
       "3     0       1       1  \n",
       "4     0       0       0  "
      ]
     },
     "execution_count": 5,
     "metadata": {},
     "output_type": "execute_result"
    }
   ],
   "source": [
    "data = pd.read_csv('cardio.csv', sep=';')\n",
    "data.head()"
   ]
  },
  {
   "cell_type": "code",
   "execution_count": 6,
   "id": "bb421a4c",
   "metadata": {
    "id": "bb421a4c",
    "outputId": "26c3950a-a957-4e70-dd7d-3a1b13761491"
   },
   "outputs": [
    {
     "name": "stdout",
     "output_type": "stream",
     "text": [
      "<class 'pandas.core.frame.DataFrame'>\n",
      "RangeIndex: 70000 entries, 0 to 69999\n",
      "Data columns (total 13 columns):\n",
      " #   Column       Non-Null Count  Dtype  \n",
      "---  ------       --------------  -----  \n",
      " 0   id           70000 non-null  int64  \n",
      " 1   age          70000 non-null  int64  \n",
      " 2   gender       70000 non-null  int64  \n",
      " 3   height       70000 non-null  int64  \n",
      " 4   weight       70000 non-null  float64\n",
      " 5   ap_hi        70000 non-null  int64  \n",
      " 6   ap_lo        70000 non-null  int64  \n",
      " 7   cholesterol  70000 non-null  int64  \n",
      " 8   gluc         70000 non-null  int64  \n",
      " 9   smoke        70000 non-null  int64  \n",
      " 10  alco         70000 non-null  int64  \n",
      " 11  active       70000 non-null  int64  \n",
      " 12  cardio       70000 non-null  int64  \n",
      "dtypes: float64(1), int64(12)\n",
      "memory usage: 6.9 MB\n"
     ]
    }
   ],
   "source": [
    "data.info()"
   ]
  },
  {
   "cell_type": "markdown",
   "id": "ea970f2d",
   "metadata": {
    "id": "ea970f2d"
   },
   "source": [
    "<b>Категориальные признаки:</b>\n",
    "- gender\n",
    "- smoke\n",
    "- alco\n",
    "- active\n",
    "- cardio\n",
    "\n",
    "<b>Порядковые признаки:</b>\n",
    "- cholesterol\n",
    "- gluc\n",
    "\n",
    "\n",
    "Все остальные – числовые непрерывные признаки."
   ]
  },
  {
   "cell_type": "markdown",
   "id": "1725d194",
   "metadata": {
    "id": "1725d194"
   },
   "source": [
    "### Анализ корреляций числовых признаков"
   ]
  },
  {
   "cell_type": "code",
   "execution_count": 13,
   "id": "e259357f",
   "metadata": {
    "id": "e259357f",
    "outputId": "20242c73-8e2d-4050-cddc-6ac17cbc1029"
   },
   "outputs": [
    {
     "data": {
      "text/html": [
       "<div>\n",
       "<style scoped>\n",
       "    .dataframe tbody tr th:only-of-type {\n",
       "        vertical-align: middle;\n",
       "    }\n",
       "\n",
       "    .dataframe tbody tr th {\n",
       "        vertical-align: top;\n",
       "    }\n",
       "\n",
       "    .dataframe thead th {\n",
       "        text-align: right;\n",
       "    }\n",
       "</style>\n",
       "<table border=\"1\" class=\"dataframe\">\n",
       "  <thead>\n",
       "    <tr style=\"text-align: right;\">\n",
       "      <th></th>\n",
       "      <th>age</th>\n",
       "      <th>height</th>\n",
       "      <th>weight</th>\n",
       "      <th>ap_hi</th>\n",
       "      <th>ap_lo</th>\n",
       "    </tr>\n",
       "  </thead>\n",
       "  <tbody>\n",
       "    <tr>\n",
       "      <th>age</th>\n",
       "      <td>1.000000</td>\n",
       "      <td>-0.081515</td>\n",
       "      <td>0.053684</td>\n",
       "      <td>0.020764</td>\n",
       "      <td>0.017647</td>\n",
       "    </tr>\n",
       "    <tr>\n",
       "      <th>height</th>\n",
       "      <td>-0.081515</td>\n",
       "      <td>1.000000</td>\n",
       "      <td>0.290968</td>\n",
       "      <td>0.005488</td>\n",
       "      <td>0.006150</td>\n",
       "    </tr>\n",
       "    <tr>\n",
       "      <th>weight</th>\n",
       "      <td>0.053684</td>\n",
       "      <td>0.290968</td>\n",
       "      <td>1.000000</td>\n",
       "      <td>0.030702</td>\n",
       "      <td>0.043710</td>\n",
       "    </tr>\n",
       "    <tr>\n",
       "      <th>ap_hi</th>\n",
       "      <td>0.020764</td>\n",
       "      <td>0.005488</td>\n",
       "      <td>0.030702</td>\n",
       "      <td>1.000000</td>\n",
       "      <td>0.016086</td>\n",
       "    </tr>\n",
       "    <tr>\n",
       "      <th>ap_lo</th>\n",
       "      <td>0.017647</td>\n",
       "      <td>0.006150</td>\n",
       "      <td>0.043710</td>\n",
       "      <td>0.016086</td>\n",
       "      <td>1.000000</td>\n",
       "    </tr>\n",
       "  </tbody>\n",
       "</table>\n",
       "</div>"
      ],
      "text/plain": [
       "             age    height    weight     ap_hi     ap_lo\n",
       "age     1.000000 -0.081515  0.053684  0.020764  0.017647\n",
       "height -0.081515  1.000000  0.290968  0.005488  0.006150\n",
       "weight  0.053684  0.290968  1.000000  0.030702  0.043710\n",
       "ap_hi   0.020764  0.005488  0.030702  1.000000  0.016086\n",
       "ap_lo   0.017647  0.006150  0.043710  0.016086  1.000000"
      ]
     },
     "execution_count": 13,
     "metadata": {},
     "output_type": "execute_result"
    }
   ],
   "source": [
    "numeric = ['age', 'height', 'weight', 'ap_hi', 'ap_lo']\n",
    "data[numeric].corr()"
   ]
  },
  {
   "cell_type": "code",
   "execution_count": 14,
   "id": "321edafb",
   "metadata": {
    "id": "321edafb",
    "outputId": "a1201d10-e11f-4f5e-e488-3b12df0545dc"
   },
   "outputs": [
    {
     "data": {
      "text/plain": [
       "<AxesSubplot:>"
      ]
     },
     "execution_count": 14,
     "metadata": {},
     "output_type": "execute_result"
    },
    {
     "data": {
      "image/png": "[encoded data removed]",
      "text/plain": [
       "<Figure size 432x288 with 2 Axes>"
      ]
     },
     "metadata": {
      "needs_background": "light"
     },
     "output_type": "display_data"
    }
   ],
   "source": [
    "sns.heatmap(data[numeric].corr(), vmin=-1, vmax=1, annot=True)"
   ]
  },
  {
   "cell_type": "markdown",
   "id": "0123aed4",
   "metadata": {
    "id": "0123aed4"
   },
   "source": [
    "<b>Выводы:</b>\n",
    "Слабая корреляция наблюдается между переменными ap_hi и ap_lo (верхнее и нижнее артериальное давление). Достаточно высокой является корреляция между ростом и весом. Кроме того, можно заметить, что вес в большей степени связан с давлением, чем рост."
   ]
  },
  {
   "cell_type": "markdown",
   "id": "41754974",
   "metadata": {
    "id": "41754974"
   },
   "source": [
    "### Статистическая значимость коэффицента корреляции\n",
    "\n",
    "Насколько высокой должна быть степень корреляции, чтобы можно было вообще говорить о какой-либо неслучайной взаимосвязи между признаками?\n",
    "\n",
    "---\n",
    "Корреляция между ростом и весом является достаточно высокой, а вес больше связан с давлением, чем рост."
   ]
  },
  {
   "cell_type": "code",
   "execution_count": 18,
   "id": "9b51d0c7",
   "metadata": {
    "id": "9b51d0c7"
   },
   "outputs": [],
   "source": [
    "from scipy.stats import pearsonr, spearmanr, kendalltau"
   ]
  },
  {
   "cell_type": "code",
   "execution_count": 19,
   "id": "84793dc8",
   "metadata": {
    "id": "84793dc8",
    "outputId": "19c2a836-710f-416d-bdf2-542dd7e323ce"
   },
   "outputs": [
    {
     "data": {
      "text/plain": [
       "PearsonRResult(statistic=0.29096783499149853, pvalue=0.0)"
      ]
     },
     "execution_count": 19,
     "metadata": {},
     "output_type": "execute_result"
    }
   ],
   "source": [
    "pearsonr(data.weight, data.height)"
   ]
  },
  {
   "cell_type": "code",
   "execution_count": 20,
   "id": "ddc78e42",
   "metadata": {
    "id": "ddc78e42",
    "outputId": "9f7b2300-9e5a-4b2f-b510-85eb640f3b36"
   },
   "outputs": [
    {
     "data": {
      "text/plain": [
       "SignificanceResult(statistic=0.13790793370008902, pvalue=2.9847537944766864e-294)"
      ]
     },
     "execution_count": 20,
     "metadata": {},
     "output_type": "execute_result"
    }
   ],
   "source": [
    "spearmanr(data.weight, data.cholesterol)"
   ]
  },
  {
   "cell_type": "code",
   "execution_count": 21,
   "id": "af13657b",
   "metadata": {
    "id": "af13657b",
    "outputId": "572db0d8-f34b-4b11-9ee1-e6d8f630da97"
   },
   "outputs": [
    {
     "data": {
      "text/plain": [
       "SignificanceResult(statistic=0.11061576645010737, pvalue=2.4466562782805854e-291)"
      ]
     },
     "execution_count": 21,
     "metadata": {},
     "output_type": "execute_result"
    }
   ],
   "source": [
    "kendalltau(data.weight, data.cholesterol)"
   ]
  },
  {
   "cell_type": "markdown",
   "id": "3d6b515b",
   "metadata": {
    "id": "3d6b515b"
   },
   "source": [
    "Так как p-value < 0.05 (типичное пороговое значение), то делаем вывод о том, что взаимосвязь (корреляция) между ростом и весом статистически значима."
   ]
  },
  {
   "cell_type": "markdown",
   "id": "bf637d62",
   "metadata": {
    "id": "bf637d62"
   },
   "source": [
    "Проверим, действительно ли корреляция роста и давления статистически незначима в отличие от корреляции веса и давления. Снова воспользуемся коэффициентом корреляции Пирсона."
   ]
  },
  {
   "cell_type": "code",
   "execution_count": 23,
   "id": "b735a09b",
   "metadata": {
    "id": "b735a09b",
    "outputId": "95d87888-1b79-4e18-f217-5ba537cff3b1"
   },
   "outputs": [
    {
     "data": {
      "text/plain": [
       "PearsonRResult(statistic=0.030702208651581932, pvalue=4.480599811216396e-16)"
      ]
     },
     "execution_count": 23,
     "metadata": {},
     "output_type": "execute_result"
    }
   ],
   "source": [
    "pearsonr(data.weight, data.ap_hi)"
   ]
  },
  {
   "cell_type": "code",
   "execution_count": 22,
   "id": "cb6b2446",
   "metadata": {},
   "outputs": [
    {
     "data": {
      "text/plain": [
       "PearsonRResult(statistic=0.005487764158405932, pvalue=0.14652637424683373)"
      ]
     },
     "execution_count": 22,
     "metadata": {},
     "output_type": "execute_result"
    }
   ],
   "source": [
    "pearsonr(data.height, data.ap_hi)"
   ]
  },
  {
   "cell_type": "markdown",
   "id": "4143e9e8",
   "metadata": {
    "id": "4143e9e8"
   },
   "source": [
    "Значение p-value < 0.05, а значит взаимосвязь между весом и давлением статистически значима.\n",
    "\n",
    "А в случае взаимосвязи между ростом и давлением у нас нет оснований утверждать, что между ними нет статистически подтверждённой взаимосвязи, те связь возможна, но доказать мы это не смогли."
   ]
  },
  {
   "cell_type": "markdown",
   "id": "078fcb0b",
   "metadata": {
    "id": "078fcb0b"
   },
   "source": [
    "### Анализ корреляций категориальных признаков\n",
    "Корреляция между категориальными переменными не может быть измерена с помощью коэффициентов Пирсона, Спирмена и Кендалла. Коэффициенты и выводы для категориальных данных обычно строятся на основании <b>таблиц сопряжённости </b>(кросс-таблиц).\n",
    "\n",
    "Таблицы сопряжённости представляют собой таблицы, в которых данные разбиты на строки и столбцы, чтобы показать, какие комбинации значений встречаются в наборе данных.\n",
    "\n",
    "Рассмотрим взаимосвязь курения и сердечно-сосудистых заболеваний. Построим кросс-таблицу."
   ]
  },
  {
   "cell_type": "code",
   "execution_count": 24,
   "id": "03f1af3a",
   "metadata": {
    "id": "03f1af3a",
    "outputId": "9b2295ad-583d-45bf-fef5-cffb369c434d"
   },
   "outputs": [
    {
     "data": {
      "text/html": [
       "<div>\n",
       "<style scoped>\n",
       "    .dataframe tbody tr th:only-of-type {\n",
       "        vertical-align: middle;\n",
       "    }\n",
       "\n",
       "    .dataframe tbody tr th {\n",
       "        vertical-align: top;\n",
       "    }\n",
       "\n",
       "    .dataframe thead th {\n",
       "        text-align: right;\n",
       "    }\n",
       "</style>\n",
       "<table border=\"1\" class=\"dataframe\">\n",
       "  <thead>\n",
       "    <tr style=\"text-align: right;\">\n",
       "      <th>cardio</th>\n",
       "      <th>0</th>\n",
       "      <th>1</th>\n",
       "    </tr>\n",
       "    <tr>\n",
       "      <th>smoke</th>\n",
       "      <th></th>\n",
       "      <th></th>\n",
       "    </tr>\n",
       "  </thead>\n",
       "  <tbody>\n",
       "    <tr>\n",
       "      <th>0</th>\n",
       "      <td>31781</td>\n",
       "      <td>32050</td>\n",
       "    </tr>\n",
       "    <tr>\n",
       "      <th>1</th>\n",
       "      <td>3240</td>\n",
       "      <td>2929</td>\n",
       "    </tr>\n",
       "  </tbody>\n",
       "</table>\n",
       "</div>"
      ],
      "text/plain": [
       "cardio      0      1\n",
       "smoke               \n",
       "0       31781  32050\n",
       "1        3240   2929"
      ]
     },
     "execution_count": 24,
     "metadata": {},
     "output_type": "execute_result"
    }
   ],
   "source": [
    "pd.crosstab(data.smoke, data.cardio)"
   ]
  },
  {
   "cell_type": "code",
   "execution_count": 27,
   "id": "0f4b4c85",
   "metadata": {
    "id": "0f4b4c85",
    "outputId": "4ad6305d-0484-4915-ab32-e332a1d86b2a"
   },
   "outputs": [
    {
     "data": {
      "text/plain": [
       "<AxesSubplot:xlabel='cardio', ylabel='smoke'>"
      ]
     },
     "execution_count": 27,
     "metadata": {},
     "output_type": "execute_result"
    },
    {
     "data": {
      "image/png": "[encoded data removed]",
      "text/plain": [
       "<Figure size 432x288 with 2 Axes>"
      ]
     },
     "metadata": {
      "needs_background": "light"
     },
     "output_type": "display_data"
    }
   ],
   "source": [
    "sns.heatmap(pd.crosstab(data.smoke, data.cardio), annot=True, linewidth=2, linecolor='white')"
   ]
  },
  {
   "cell_type": "code",
   "execution_count": 28,
   "id": "ce036c5c",
   "metadata": {
    "id": "ce036c5c",
    "outputId": "832ed64b-5e8b-4c1d-be57-496e0779ba4c"
   },
   "outputs": [
    {
     "data": {
      "text/html": [
       "<div>\n",
       "<style scoped>\n",
       "    .dataframe tbody tr th:only-of-type {\n",
       "        vertical-align: middle;\n",
       "    }\n",
       "\n",
       "    .dataframe tbody tr th {\n",
       "        vertical-align: top;\n",
       "    }\n",
       "\n",
       "    .dataframe thead th {\n",
       "        text-align: right;\n",
       "    }\n",
       "</style>\n",
       "<table border=\"1\" class=\"dataframe\">\n",
       "  <thead>\n",
       "    <tr style=\"text-align: right;\">\n",
       "      <th>cardio</th>\n",
       "      <th>0</th>\n",
       "      <th>1</th>\n",
       "    </tr>\n",
       "    <tr>\n",
       "      <th>smoke</th>\n",
       "      <th></th>\n",
       "      <th></th>\n",
       "    </tr>\n",
       "  </thead>\n",
       "  <tbody>\n",
       "    <tr>\n",
       "      <th>0</th>\n",
       "      <td>0.454014</td>\n",
       "      <td>0.457857</td>\n",
       "    </tr>\n",
       "    <tr>\n",
       "      <th>1</th>\n",
       "      <td>0.046286</td>\n",
       "      <td>0.041843</td>\n",
       "    </tr>\n",
       "  </tbody>\n",
       "</table>\n",
       "</div>"
      ],
      "text/plain": [
       "cardio         0         1\n",
       "smoke                     \n",
       "0       0.454014  0.457857\n",
       "1       0.046286  0.041843"
      ]
     },
     "execution_count": 28,
     "metadata": {},
     "output_type": "execute_result"
    }
   ],
   "source": [
    "pd.crosstab(data.smoke, data.cardio) / data.shape[0]"
   ]
  },
  {
   "cell_type": "code",
   "execution_count": 29,
   "id": "8339fcd5",
   "metadata": {},
   "outputs": [
    {
     "data": {
      "text/plain": [
       "<AxesSubplot:xlabel='cardio', ylabel='smoke'>"
      ]
     },
     "execution_count": 29,
     "metadata": {},
     "output_type": "execute_result"
    },
    {
     "data": {
      "image/png": "[encoded data removed]",
      "text/plain": [
       "<Figure size 432x288 with 2 Axes>"
      ]
     },
     "metadata": {
      "needs_background": "light"
     },
     "output_type": "display_data"
    }
   ],
   "source": [
    "sns.heatmap(pd.crosstab(data.smoke, data.cardio) / data.shape[0], annot=True, linewidth=2, linecolor='white', fmt='.1%')"
   ]
  },
  {
   "cell_type": "markdown",
   "id": "ee567039",
   "metadata": {
    "id": "ee567039"
   },
   "source": [
    "Из такой таблицы можно извлечь различные статистические метрики и провести анализ:\n",
    "\n",
    "- <b>Частоты.</b> Вы можете видеть, сколько курящих и некурящих людей имеют сердечно-сосудичстые заболевания.\n",
    "- <b>Проценты.</b> Можно вычислить процентное соотношение, например, какой процент курящих и некурящих людей имеют сердечно-сосудистые заболевания.\n",
    "- <b>Хи-квадрат тест.</b> Этот статистический тест используется для определения, есть ли статистически значимая связь между категориальными переменными."
   ]
  },
  {
   "cell_type": "code",
   "execution_count": 33,
   "id": "fd4b717f",
   "metadata": {
    "id": "fd4b717f"
   },
   "outputs": [],
   "source": [
    "from scipy.stats import chi2_contingency"
   ]
  },
  {
   "cell_type": "code",
   "execution_count": 35,
   "id": "aee4cd24",
   "metadata": {
    "id": "aee4cd24",
    "outputId": "1fbfcd48-f69b-4347-cbe8-137f623d701a"
   },
   "outputs": [
    {
     "data": {
      "text/plain": [
       "Chi2ContingencyResult(statistic=16.677916738748436, pvalue=4.4293623605077656e-05, dof=1, expected_freq=array([[31934.6493, 31896.3507],\n",
       "       [ 3086.3507,  3082.6493]]))"
      ]
     },
     "execution_count": 35,
     "metadata": {},
     "output_type": "execute_result"
    }
   ],
   "source": [
    "chi2_contingency(pd.crosstab(data.smoke, data.cardio))"
   ]
  },
  {
   "cell_type": "markdown",
   "id": "3f90269d",
   "metadata": {
    "id": "3f90269d"
   },
   "source": [
    "Малое значение p-value говорит о том, что связь статистически подтверждается."
   ]
  },
  {
   "cell_type": "code",
   "execution_count": null,
   "id": "38e549e0",
   "metadata": {
    "id": "38e549e0"
   },
   "outputs": [],
   "source": []
  }
 ],
 "metadata": {
  "colab": {
   "provenance": []
  },
  "kernelspec": {
   "display_name": "Python 3 (ipykernel)",
   "language": "python",
   "name": "python3"
  },
  "language_info": {
   "codemirror_mode": {
    "name": "ipython",
    "version": 3
   },
   "file_extension": ".py",
   "mimetype": "text/x-python",
   "name": "python",
   "nbconvert_exporter": "python",
   "pygments_lexer": "ipython3",
   "version": "3.9.12"
  }
 },
 "nbformat": 4,
 "nbformat_minor": 5
}
