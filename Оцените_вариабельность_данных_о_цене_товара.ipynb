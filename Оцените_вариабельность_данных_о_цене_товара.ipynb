{
  "nbformat": 4,
  "nbformat_minor": 0,
  "metadata": {
    "colab": {
      "provenance": []
    },
    "kernelspec": {
      "name": "python3",
      "display_name": "Python 3"
    },
    "language_info": {
      "name": "python"
    }
  },
  "cells": [
    {
      "cell_type": "markdown",
      "source": [
        "# Условие задачи\n",
        "Вы работаете в компании, которая занимается продажей товаров. Вам нужно оценить вариабельность цены.\n",
        "\n",
        "**Цель проекта:** Оценить основные характеристики цены товара: среднее, стандартное отклонение, размах, квартили.\n",
        "\n",
        "## Алгоритм решения:\n",
        "\n",
        "1. Загрузите данные из CSV-файла и ознакомтесь с их структурой.\n",
        "2. Проведите предворительный анализа данных, включающий проверку наличия пропущенных значений.\n",
        "3. Оцените основне статистичееские характеристики данных, такие как среднее значение, стандартное отклонение, размах, квартили.\n",
        "4. Визуализируйте данные, чтобы получить представление о вариабельности и распределении данных.\n",
        "5. Сделайте выводы на основе проведенного анализа.\n",
        "\n",
        "## Подсказки:\n",
        "\n",
        "* Используйте библитеки Pandas, NumPy и Matplotlib для загрузки, обработки и визуализации данных.\n",
        "* Документируйте каждый шаг анализа данных и комментируйте результаты для лучшего понимания вашего подхода и выводов.\n",
        "* Используйте графические инструменты, такие как гистограммы и ящик с усами, для вихуализации данных и выявления особенностей и вариабелности.\n",
        "* Выводите и анализируйте освноные статистические характеристики даннных, чтобы оценить их вариабельность и распеределение.\n"
      ],
      "metadata": {
        "id": "rL0FoLFFZJZ7"
      }
    },
    {
      "cell_type": "code",
      "execution_count": null,
      "metadata": {
        "colab": {
          "base_uri": "https://localhost:8080/"
        },
        "id": "-IfPhqjwZErF",
        "outputId": "aa094f02-2899-468c-b50c-6b06743fc3ce"
      },
      "outputs": [
        {
          "output_type": "stream",
          "name": "stdout",
          "text": [
            "Пропущенные значения:\n",
            "Price    0\n",
            "Value    0\n",
            "dtype: int64\n",
            "    Price  Value\n",
            "0      10      2\n",
            "1      15     25\n",
            "2      20      3\n",
            "3      25     35\n",
            "4       3      4\n",
            "5      17     18\n",
            "6       1      7\n",
            "7      15     25\n",
            "8      13      4\n",
            "9      11      2\n",
            "10     14      8\n",
            "11      9     23\n",
            "12     11      3\n",
            "13     14     21\n",
            "14     24     25\n",
            "15     28     32\n",
            "16      3      5\n",
            "17     18     18\n",
            "18      2      7\n",
            "19     19     25\n"
          ]
        }
      ],
      "source": [
        "import pandas as pd\n",
        "import numpy as np\n",
        "import matplotlib.pyplot as plt\n",
        "\n",
        "# загрузка данных из CSV-файла\n",
        "data = pd.read_csv('/content/data.csv')\n",
        "\n",
        "# предворительный анализ данных\n",
        "# проверка наличия пропущенных значений\n",
        "missing_values = data.isnull().sum()\n",
        "print('Пропущенные значения:')\n",
        "print(missing_values)\n",
        "\n",
        "print(data)"
      ]
    },
    {
      "cell_type": "code",
      "source": [
        "plt.boxplot(x=data['Price'])"
      ],
      "metadata": {
        "colab": {
          "base_uri": "https://localhost:8080/",
          "height": 569
        },
        "id": "rAsBeV3bgZsh",
        "outputId": "d7ef0852-4657-4788-bc75-2104d9597f50"
      },
      "execution_count": null,
      "outputs": [
        {
          "output_type": "execute_result",
          "data": {
            "text/plain": [
              "{'whiskers': [<matplotlib.lines.Line2D at 0x7d411a4f31c0>,\n",
              "  <matplotlib.lines.Line2D at 0x7d411a4f3970>],\n",
              " 'caps': [<matplotlib.lines.Line2D at 0x7d411a4f1b10>,\n",
              "  <matplotlib.lines.Line2D at 0x7d411a4f0250>],\n",
              " 'boxes': [<matplotlib.lines.Line2D at 0x7d411a4f3ca0>],\n",
              " 'medians': [<matplotlib.lines.Line2D at 0x7d411a4f1960>],\n",
              " 'fliers': [<matplotlib.lines.Line2D at 0x7d411a4f3ee0>],\n",
              " 'means': []}"
            ]
          },
          "metadata": {},
          "execution_count": 10
        },
        {
          "output_type": "display_data",
          "data": {
            "text/plain": [
              "<Figure size 640x480 with 1 Axes>"
            ],
            "image/png": "[encoded data removed]"
          },
          "metadata": {}
        }
      ]
    },
    {
      "cell_type": "code",
      "source": [
        "# Оценка статистических характеристик данных\n",
        "statistics = data['Price'].describe()\n",
        "print('Статистические характеристики:')\n",
        "print(statistics)"
      ],
      "metadata": {
        "colab": {
          "base_uri": "https://localhost:8080/"
        },
        "id": "Qe18mjMMb80V",
        "outputId": "c149f817-500f-4468-a3b3-8dba971c82bb"
      },
      "execution_count": null,
      "outputs": [
        {
          "output_type": "stream",
          "name": "stdout",
          "text": [
            "Статистические характеристики:\n",
            "count    20.000000\n",
            "mean     13.600000\n",
            "std       7.666743\n",
            "min       1.000000\n",
            "25%       9.750000\n",
            "50%      14.000000\n",
            "75%      18.250000\n",
            "max      28.000000\n",
            "Name: Price, dtype: float64\n"
          ]
        }
      ]
    },
    {
      "cell_type": "code",
      "source": [
        "# Визуализация данных\n",
        "plt.figure(figsize=(10, 6))\n",
        "plt.hist(data['Price'], bins=10, edgecolor='black')\n",
        "plt.xlabel('Продажи')\n",
        "plt.ylabel('Частота')\n",
        "plt.title('Распределение продаж')\n",
        "plt.show()"
      ],
      "metadata": {
        "colab": {
          "base_uri": "https://localhost:8080/",
          "height": 584
        },
        "id": "Gl_H2rLUeyDK",
        "outputId": "d0aa6556-b3bc-4296-a142-f0349c241670"
      },
      "execution_count": null,
      "outputs": [
        {
          "output_type": "display_data",
          "data": {
            "text/plain": [
              "<Figure size 1000x600 with 1 Axes>"
            ],
            "image/png": "[encoded data removed]"
          },
          "metadata": {}
        }
      ]
    },
    {
      "cell_type": "code",
      "source": [
        "# Рассчет основых характеристик\n",
        "mean = np.mean(data['Price']) # среднее значение\n",
        "std = np.std(data['Price']) # стандартное отклонение\n",
        "range = data['Price'].max() - data['Price'].min()\n",
        "q1 = np.quantile(data['Price'], 0.25) # 1-й квартиль\n",
        "q3 = np.quantile(data['Price'], 0.75) # 3-й квартить\n",
        "interquartile_range = q3 - q1\n",
        "\n",
        "print('Выводы анализа:')\n",
        "print('Средняя цена: ', mean)\n",
        "print('Стандартное отклонение: ', std)\n",
        "print('1-й квартиль: ', q1)\n",
        "print('3-й квартиль: ', q3)\n",
        "print('Размах: ', range)\n",
        "print('Межквартильный размах: ', interquartile_range)"
      ],
      "metadata": {
        "colab": {
          "base_uri": "https://localhost:8080/"
        },
        "id": "bF3K5yp_fh6A",
        "outputId": "82ef028d-2ab7-4aef-fa01-990d4e8a6051"
      },
      "execution_count": null,
      "outputs": [
        {
          "output_type": "stream",
          "name": "stdout",
          "text": [
            "Выводы анализа:\n",
            "Средняя цена:  13.6\n",
            "Стандартное отклонение:  7.472616676907762\n",
            "1-й квартиль:  9.75\n",
            "3-й квартиль:  18.25\n",
            "Размах:  27\n",
            "Межквартильный размах:  8.5\n"
          ]
        }
      ]
    },
    {
      "cell_type": "code",
      "source": [],
      "metadata": {
        "id": "ItIO6cCvpa0M"
      },
      "execution_count": null,
      "outputs": []
    }
  ]
}