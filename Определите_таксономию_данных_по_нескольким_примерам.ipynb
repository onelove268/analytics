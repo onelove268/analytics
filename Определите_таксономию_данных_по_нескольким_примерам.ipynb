{
  "nbformat": 4,
  "nbformat_minor": 0,
  "metadata": {
    "colab": {
      "provenance": []
    },
    "kernelspec": {
      "name": "python3",
      "display_name": "Python 3"
    },
    "language_info": {
      "name": "python"
    }
  },
  "cells": [
    {
      "cell_type": "markdown",
      "source": [
        "# Условие задачи\n",
        "\n",
        "Вам предоставлены несколько наборов данных с различными типами информации. Ваша цель — определить тип данных для каждого примера.\n",
        "\n",
        "## Алгоритм решения:\n",
        "\n",
        "1.   Загрузите каждый набор данных из CSV-файлов в DataFrame.\n",
        "2.   Используйте методы и атрибуты DataFrame для определения типа данных для каждого примера.\n",
        "3. Выведите результаты на экран.\n",
        "\n",
        "## Подсказки\n",
        "* Убедитесь, что у вас есть файлы данных (data1.csv, data2.csv, data3.csv) и они находятся в том же каталоге, что и ваш скрипт.\n",
        "* Используйте метод dtypes для получения типов данных в DataFrame.\n",
        "* Создайте словарь или другую структуру данных для хранения таксономии данных.\n",
        "* Используйте цикл для обработки каждого набора данных и вывода результатов таксономии данных."
      ],
      "metadata": {
        "id": "qfaroMe_fz8V"
      }
    },
    {
      "cell_type": "code",
      "execution_count": null,
      "metadata": {
        "colab": {
          "base_uri": "https://localhost:8080/"
        },
        "id": "yHugHIYbfxX3",
        "outputId": "144c8d21-c269-4ae6-e5d4-84191dffdf73"
      },
      "outputs": [
        {
          "output_type": "stream",
          "name": "stdout",
          "text": [
            "Таксономия данных для data1\n",
            "ID         int64\n",
            "Name      object\n",
            "Age        int64\n",
            "Salary     int64\n",
            "dtype: object\n",
            "\n",
            "Таксономия данных для data2\n",
            "Date       object\n",
            "Open      float64\n",
            "High        int64\n",
            "Low         int64\n",
            "Close       int64\n",
            "Volume      int64\n",
            "dtype: object\n",
            "\n",
            "Таксономия данных для data3\n",
            "Country        object\n",
            "City           object\n",
            "Population      int64\n",
            "Area          float64\n",
            "dtype: object\n",
            "\n"
          ]
        }
      ],
      "source": [
        "import pandas as pd\n",
        "\n",
        "# Загрузка данных из CSV-файлов\n",
        "data1 = pd.read_csv('/content/data1.csv')\n",
        "data2 = pd.read_csv('/content/data2.csv')\n",
        "data3 = pd.read_csv('/content/data3.csv')\n",
        "\n",
        "# Определение таксономии данных\n",
        "taxonomy = {\n",
        "    'data1': data1.dtypes,\n",
        "    'data2': data2.dtypes,\n",
        "    'data3': data3.dtypes\n",
        "}\n",
        "\n",
        "# Вывод результатов таксономии данных\n",
        "for dataset, dtypes in taxonomy.items():\n",
        "  print(\"Таксономия данных для\", dataset)\n",
        "  print(dtypes)\n",
        "  print()"
      ]
    }
  ]
}