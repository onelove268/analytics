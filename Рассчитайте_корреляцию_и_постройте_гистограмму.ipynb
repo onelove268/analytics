{
  "nbformat": 4,
  "nbformat_minor": 0,
  "metadata": {
    "colab": {
      "provenance": []
    },
    "kernelspec": {
      "name": "python3",
      "display_name": "Python 3"
    },
    "language_info": {
      "name": "python"
    }
  },
  "cells": [
    {
      "cell_type": "markdown",
      "source": [
        "# Условие задачи\n",
        "\n",
        "Вы работаете в компании занимающейся анализом данных, и вам поставлена задача исследоваться взаимосвязь между двумя переменными в наборе данных: цена товара и объем продаж. Ваша цель - рассчитать корреляцию между этими двумя переменными и построить диаграмму рассеяния для визуализации результатов.\n",
        "\n"
      ],
      "metadata": {
        "id": "iAIYBtE2DqpB"
      }
    },
    {
      "cell_type": "markdown",
      "source": [
        "## Алгоритм решения\n",
        "\n",
        "1. Загрузите данные из файла формата CSV.\n",
        "2. Проведите предворительный анализ данных: изучите структуру набора данных, определите переменные, которые вы хотите исследовать.\n",
        "3. Выделите две переменные, между которыми вы хотите рассчитать корреляцию.\n",
        "4. Проведите рассчет корреляции между переменными с использованием подходящего стаистического метода, проверьте значимать полученного коэффицинта корелляции.\n",
        "5. Посторойте диаграмму рессеяния, отображающую взаимосвязь между двумя переменными.\n",
        "6. Проанализируйте результаты и сделайте выводы о степени взаимосвязи между переменными.\n"
      ],
      "metadata": {
        "id": "BooxhYGNETXi"
      }
    },
    {
      "cell_type": "markdown",
      "source": [
        "## Подсказки\n",
        "\n",
        "* Используйте библиотеку Pandas для загрузки данных из CSV и работы с ним.\n",
        "* Для расчета корреляци между переменными можно воспользоваться методом **pearsonr**.\n",
        "* Для построения диаграммы рассеяния используейте функцию scatter() из библиотеке Matplotlib.\n",
        "* Помните, что перед построение диаграммы рассеяния данные должны быть числовыми, поэтому при необходимости, преобразуйте их в числовой формат.\n",
        "* Анализируйте результаты, обращайте внимание на значение корреляции и визуализацию, чтобы сделать выводы о взаимосвязи между переменными."
      ],
      "metadata": {
        "id": "S4wL0H6zF6ft"
      }
    },
    {
      "cell_type": "code",
      "execution_count": 2,
      "metadata": {
        "colab": {
          "base_uri": "https://localhost:8080/",
          "height": 509
        },
        "id": "Ln7_hZMXDo3r",
        "outputId": "e3fc7419-9a13-4cf7-e0f8-bc9aef7e280b"
      },
      "outputs": [
        {
          "output_type": "display_data",
          "data": {
            "text/plain": [
              "<Figure size 640x480 with 1 Axes>"
            ],
            "image/png": "[encoded data removed]"
          },
          "metadata": {}
        },
        {
          "output_type": "stream",
          "name": "stdout",
          "text": [
            "Корреляция между ценой и объемом продаж: PearsonRResult(statistic=0.6809042355030789, pvalue=0.0009503846229577894)\n"
          ]
        }
      ],
      "source": [
        "import pandas as pd\n",
        "import matplotlib.pyplot as plt\n",
        "from scipy.stats import pearsonr\n",
        "\n",
        "# Загрузка данных из файла CSV\n",
        "data = pd.read_csv('/content/data (2).csv')\n",
        "\n",
        "# Выделение двух переменных для исследования\n",
        "Price = data['Price']\n",
        "Value = data['Value']\n",
        "\n",
        "# Расчет корреляции\n",
        "correlation = pearsonr(Price, Value)\n",
        "\n",
        "# Постоение диараммы рассеяния\n",
        "plt.scatter(Price, Value)\n",
        "plt.xlabel('Price')\n",
        "plt.ylabel('Value')\n",
        "plt.title('Scstter Plot')\n",
        "plt.show()\n",
        "\n",
        "# Выводы анализа\n",
        "print('Корреляция между ценой и объемом продаж:', correlation)"
      ]
    },
    {
      "cell_type": "markdown",
      "source": [
        "Мы получили статистически значимую корреляцию между переменными — коэффициент корреляции Пирсона r=0.68, уровень значимости pvalue=0.00095. На основе коэффициента корреляции и построенной диаграммы рассеяния можно сделать вывод о существовании значимой взаимосвязи между ценой и объемом продаж."
      ],
      "metadata": {
        "id": "jK_jhwAXIyeb"
      }
    },
    {
      "cell_type": "code",
      "source": [],
      "metadata": {
        "id": "ms5dD7-YHfVP"
      },
      "execution_count": null,
      "outputs": []
    }
  ]
}